{
  "nbformat": 4,
  "nbformat_minor": 0,
  "metadata": {
    "colab": {
      "provenance": [],
      "authorship_tag": "ABX9TyOnAhyoXM66V68HuVNw6qHd",
      "include_colab_link": true
    },
    "kernelspec": {
      "name": "python3",
      "display_name": "Python 3"
    },
    "language_info": {
      "name": "python"
    }
  },
  "cells": [
    {
      "cell_type": "markdown",
      "metadata": {
        "id": "view-in-github",
        "colab_type": "text"
      },
      "source": [
        "<a href=\"https://colab.research.google.com/github/IndeewaAmarasinghe/RP-2024-25J-125-Crop-yield-prediction---Paddy-harvest-/blob/IT21227868-Rice-Variety-Recommendation/Support_Vector_Classifier_(SVC).ipynb\" target=\"_parent\"><img src=\"https://colab.research.google.com/assets/colab-badge.svg\" alt=\"Open In Colab\"/></a>"
      ]
    },
    {
      "cell_type": "code",
      "execution_count": null,
      "metadata": {
        "colab": {
          "base_uri": "https://localhost:8080/"
        },
        "id": "0EdiDGDQmd23",
        "outputId": "ebc22429-3a40-4d0c-b082-c47ef735de29"
      },
      "outputs": [
        {
          "output_type": "stream",
          "name": "stdout",
          "text": [
            "Mounted at /content/drive\n"
          ]
        }
      ],
      "source": [
        "from google.colab import drive\n",
        "import pandas as pd\n",
        "\n",
        "# Mount Google Drive\n",
        "drive.mount('/content/drive')\n",
        "\n",
        "# Load the datasets\n",
        "varieties_file_path = '/content/drive/MyDrive/Rice Genie/RiceVarietiesData.xlsx'\n",
        "district_file_path = '/content/drive/MyDrive/Rice Genie/SriLankaDistricts.csv'\n",
        "\n",
        "varieties_data = pd.read_excel(varieties_file_path, sheet_name='Sheet1')\n",
        "district_data = pd.read_csv(district_file_path)\n",
        "\n",
        "# Merge datasets using inner join on 'Recommendation'\n",
        "combined_data = pd.merge(varieties_data, district_data, how='inner', on='Recommendation')"
      ]
    },
    {
      "cell_type": "code",
      "source": [
        "def convert_maturity_to_numeric(value):\n",
        "    if isinstance(value, str) and '-' in value:\n",
        "        parts = value.split('-')\n",
        "        return (int(parts[0]) + int(parts[1])) / 2\n",
        "    try:\n",
        "        return float(value)\n",
        "    except ValueError:\n",
        "        return np.nan\n",
        "\n",
        "# Convert 'Maturity (days)' to numeric averages\n",
        "combined_data['Maturity (days)'] = combined_data['Maturity (days)'].apply(convert_maturity_to_numeric)\n",
        "combined_data.dropna(subset=['Maturity (days)'], inplace=True)\n"
      ],
      "metadata": {
        "id": "frt9ke7jnIbS"
      },
      "execution_count": null,
      "outputs": []
    },
    {
      "cell_type": "code",
      "source": [
        "# Create a list of recommendation keywords/phrases that indicate suitability\n",
        "recommendation_keywords = [\n",
        "    \"Low Country Wet Zone\",\n",
        "    \"High potential area\",\n",
        "    \"Rainfed areas\",\n",
        "    \"Wet Zone\",\n",
        "    \"Saline prone areas\",\n",
        "    \"Northern region\",\n",
        "    \"Saline areas\",\n",
        "    \"Iron toxic soil and acidic soil\",\n",
        "    \"Major irrigation in Dry Zone and Intermediate Zone\",\n",
        "    \"Southern province\",\n",
        "    \"High potential areas in Low Country Wet Zone\",\n",
        "    \"Dry Zone\",\n",
        "    \"Rainfed areas of Dry and Intermediate Zone\",\n",
        "    \"General cultivation\"\n",
        "]"
      ],
      "metadata": {
        "id": "LhtXv4A4nQLS"
      },
      "execution_count": null,
      "outputs": []
    },
    {
      "cell_type": "code",
      "source": [
        "# Creating a new column 'Suitability' based on multiple recommendation criteria\n",
        "combined_data['Suitability'] = combined_data.apply(\n",
        "    lambda row: 1 if (any(keyword.lower() in str(row['Recommendation']).lower() for keyword in recommendation_keywords)\n",
        "                      and row['Average Yield (t/ha)'] >= 5.0) else 0,\n",
        "    axis=1\n",
        ")\n",
        "\n",
        "print(\"Column names in rice varieties dataset:\", varieties_data.columns)\n",
        "print(\"Column names in merged dataset:\", combined_data.columns)"
      ],
      "metadata": {
        "colab": {
          "base_uri": "https://localhost:8080/"
        },
        "id": "EZ8BTBsmok6S",
        "outputId": "6de0f023-77f1-49e3-943d-e31a22a67c02"
      },
      "execution_count": null,
      "outputs": [
        {
          "output_type": "stream",
          "name": "stdout",
          "text": [
            "Column names in rice varieties dataset: Index(['Variety Name', 'Year of Release', 'Parentage', 'Average Yield (t/ha)',\n",
            "       'Maturity (days)', 'Age Group', 'Basal Leaf Sheath Colour',\n",
            "       'Recommendation', 'Brown Rice Recovery (%)', 'Milling Recovery (%)',\n",
            "       'Head Rice Recovery (%)', 'Gelatinization Temperature',\n",
            "       '1000 Grain Weight (g)', 'Grain Shape', 'Pericarp Colour',\n",
            "       'Bushel Weight (Kg)', 'Reaction to Pest and Diseases'],\n",
            "      dtype='object')\n",
            "Column names in merged dataset: Index(['Variety Name', 'Year of Release', 'Parentage', 'Average Yield (t/ha)',\n",
            "       'Maturity (days)', 'Age Group', 'Basal Leaf Sheath Colour',\n",
            "       'Recommendation', 'Brown Rice Recovery (%)', 'Milling Recovery (%)',\n",
            "       'Head Rice Recovery (%)', 'Gelatinization Temperature',\n",
            "       '1000 Grain Weight (g)', 'Grain Shape', 'Pericarp Colour',\n",
            "       'Bushel Weight (Kg)', 'Reaction to Pest and Diseases', 'Province',\n",
            "       'District', 'Annual Temperature', 'Annual Humidity', 'Annual Rainfall',\n",
            "       'Suitability'],\n",
            "      dtype='object')\n"
          ]
        }
      ]
    },
    {
      "cell_type": "code",
      "source": [
        "from sklearn.preprocessing import LabelEncoder\n",
        "\n",
        "le_temperature = LabelEncoder()\n",
        "le_rainfall = LabelEncoder()\n",
        "\n",
        "# Encoding 'AnnualTemperature' and 'Annual Rainfall' into numerical values\n",
        "combined_data['Annual Temperature'] = le_temperature.fit_transform(combined_data['Annual Temperature'])\n",
        "combined_data['Annual Rainfall'] = le_rainfall.fit_transform(combined_data['Annual Rainfall'])\n",
        "\n",
        "# Define features (X) and target (y)\n",
        "features = [\n",
        "    'Average Yield (t/ha)', 'Maturity (days)', 'Annual Temperature', 'Annual Rainfall'\n",
        "]\n",
        "X = combined_data[features]\n",
        "y = combined_data['Suitability']\n",
        "\n",
        "from sklearn.model_selection import train_test_split\n",
        "\n",
        "# Split the dataset into training and testing sets\n",
        "X_train, X_test, y_train, y_test = train_test_split(X, y, test_size=0.2, random_state=42)"
      ],
      "metadata": {
        "id": "Zo6DXo_9oqz5"
      },
      "execution_count": null,
      "outputs": []
    },
    {
      "cell_type": "code",
      "source": [
        "from sklearn.svm import SVC\n",
        "\n",
        "# Train the Support Vector Classifier (SVC) model\n",
        "svc_model = SVC(kernel='rbf', random_state=42)\n",
        "svc_model.fit(X_train, y_train)\n",
        "\n",
        "from sklearn.metrics import classification_report, accuracy_score\n",
        "\n",
        "# Predict and evaluate the model\n",
        "y_pred = svc_model.predict(X_test)\n",
        "accuracy = accuracy_score(y_test, y_pred)\n",
        "report = classification_report(y_test, y_pred)\n",
        "\n",
        "print(\"Accuracy (Support Vector Classifier):\", accuracy)\n",
        "print(report)"
      ],
      "metadata": {
        "colab": {
          "base_uri": "https://localhost:8080/"
        },
        "id": "2x_Yhd3Boy_6",
        "outputId": "c0c6c2f1-2e8e-402c-c538-86eef0aff997"
      },
      "execution_count": null,
      "outputs": [
        {
          "output_type": "stream",
          "name": "stdout",
          "text": [
            "Accuracy (Support Vector Classifier): 0.6111111111111112\n",
            "              precision    recall  f1-score   support\n",
            "\n",
            "           0       0.89      0.23      0.37       141\n",
            "           1       0.57      0.97      0.72       147\n",
            "\n",
            "    accuracy                           0.61       288\n",
            "   macro avg       0.73      0.60      0.54       288\n",
            "weighted avg       0.73      0.61      0.55       288\n",
            "\n"
          ]
        }
      ]
    },
    {
      "cell_type": "code",
      "source": [
        "from sklearn.model_selection import cross_val_score\n",
        "import numpy as np\n",
        "\n",
        "# Perform 5-fold cross-validation\n",
        "cv_scores = cross_val_score(svc_model, X, y, cv=5, scoring='accuracy')\n",
        "mean_cv_score = np.mean(cv_scores)\n",
        "print(\"Mean Cross-Validation Score (Support Vector Classifier):\", mean_cv_score)"
      ],
      "metadata": {
        "colab": {
          "base_uri": "https://localhost:8080/"
        },
        "id": "j8ZYzncHo8IC",
        "outputId": "75ac9caf-2217-42d2-cadb-d5b7a4f06282"
      },
      "execution_count": null,
      "outputs": [
        {
          "output_type": "stream",
          "name": "stdout",
          "text": [
            "Mean Cross-Validation Score (Support Vector Classifier): 0.5897914246999612\n"
          ]
        }
      ]
    },
    {
      "cell_type": "code",
      "source": [
        "def predict_suitable_varieties_for_district(district_name, district_data, varieties_data, model):\n",
        "    # Get the environmental conditions for the specified district\n",
        "    district_conditions = district_data[district_data['District'] == district_name].iloc[0]\n",
        "\n",
        "    # Extract the relevant features for prediction\n",
        "    annual_temperature = le_temperature.transform([district_conditions['Annual Temperature']])[0]\n",
        "    annual_rainfall = le_rainfall.transform([district_conditions['Annual Rainfall']])[0]\n",
        "\n",
        "    # Create a dataframe for prediction with the relevant features of each variety combined with district conditions\n",
        "    prediction_data = varieties_data.copy()\n",
        "    prediction_data['Annual Temperature'] = annual_temperature\n",
        "    prediction_data['Annual Rainfall'] = annual_rainfall\n",
        "\n",
        "    # Convert maturity to numeric where applicable\n",
        "    prediction_data['Maturity (days)'] = prediction_data['Maturity (days)'].apply(convert_maturity_to_numeric)\n",
        "    prediction_data.dropna(subset=['Maturity (days)'], inplace=True)\n",
        "\n",
        "    # Prepare the feature set\n",
        "    X_pred = prediction_data[['Average Yield (t/ha)', 'Maturity (days)', 'Annual Temperature', 'Annual Rainfall']]\n",
        "\n",
        "    # Predict suitability for each rice variety\n",
        "    prediction_data['Suitability'] = model.predict(X_pred)\n",
        "\n",
        "    # Filter for suitable varieties\n",
        "    suitable_varieties = prediction_data[prediction_data['Suitability'] == 1]\n",
        "\n",
        "    # Return the suitable varieties\n",
        "    return suitable_varieties[['Variety Name', 'Average Yield (t/ha)', 'Maturity (days)', 'Gelatinization Temperature', 'Grain Shape']]\n"
      ],
      "metadata": {
        "id": "FaBr0Z-ppG_R"
      },
      "execution_count": null,
      "outputs": []
    },
    {
      "cell_type": "code",
      "source": [
        "recommended_varieties_matara = predict_suitable_varieties_for_district('Matara', district_data, varieties_data, svc_model)\n",
        "\n",
        "# Print the results\n",
        "print(\"Recommended Rice Varieties for Matara District (Support Vector Classifier):\")\n",
        "print(recommended_varieties_matara)"
      ],
      "metadata": {
        "colab": {
          "base_uri": "https://localhost:8080/"
        },
        "id": "DHdKaOq5pTe7",
        "outputId": "fcd5e05d-81ea-4552-dbc3-75d7b821ba6d"
      },
      "execution_count": null,
      "outputs": [
        {
          "output_type": "stream",
          "name": "stdout",
          "text": [
            "Recommended Rice Varieties for Matara District (Support Vector Classifier):\n",
            "    Variety Name  Average Yield (t/ha)  Maturity (days)  \\\n",
            "0            H 4                   3.5            127.5   \n",
            "1            H 7                   3.6            105.0   \n",
            "2            H 8                   3.7            135.0   \n",
            "3            H 9                   3.0            155.0   \n",
            "6       Bg 11-11                   4.5            127.5   \n",
            "..           ...                   ...              ...   \n",
            "93        At 306                   4.7            102.0   \n",
            "96        At 307                   5.0             97.0   \n",
            "97        Ld 371                   4.6            103.0   \n",
            "98        Bw 372                   4.2            100.0   \n",
            "101   Bg 381(IP)                   4.5            105.0   \n",
            "\n",
            "    Gelatinization Temperature          Grain Shape  \n",
            "0                         High          Long Medium  \n",
            "1                 Intermediate  Intermediate Medium  \n",
            "2                         High          Short Round  \n",
            "3                         High  Intermediate Medium  \n",
            "6                 Intermediate          Short Round  \n",
            "..                         ...                  ...  \n",
            "93           Intermediate-High         Long Slender  \n",
            "96           High-Intermediate    Intermediate Bold  \n",
            "97           High-Intermediate          Short Round  \n",
            "98                        High  Intermediate Medium  \n",
            "101                        Low          Long Medium  \n",
            "\n",
            "[87 rows x 5 columns]\n"
          ]
        }
      ]
    }
  ]
}