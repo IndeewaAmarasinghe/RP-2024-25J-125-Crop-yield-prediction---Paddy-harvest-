{
  "nbformat": 4,
  "nbformat_minor": 0,
  "metadata": {
    "colab": {
      "provenance": [],
      "authorship_tag": "ABX9TyOPBsUVB0IF08doXCmPptvR",
      "include_colab_link": true
    },
    "kernelspec": {
      "name": "python3",
      "display_name": "Python 3"
    },
    "language_info": {
      "name": "python"
    }
  },
  "cells": [
    {
      "cell_type": "markdown",
      "metadata": {
        "id": "view-in-github",
        "colab_type": "text"
      },
      "source": [
        "<a href=\"https://colab.research.google.com/github/IndeewaAmarasinghe/RP-2024-25J-125-Crop-yield-prediction---Paddy-harvest-/blob/IT21227868-Rice-Variety-Recommendation/Logistic_Regression_Final_Model.ipynb\" target=\"_parent\"><img src=\"https://colab.research.google.com/assets/colab-badge.svg\" alt=\"Open In Colab\"/></a>"
      ]
    },
    {
      "cell_type": "code",
      "execution_count": 1,
      "metadata": {
        "colab": {
          "base_uri": "https://localhost:8080/"
        },
        "id": "T8A_1P1fuTys",
        "outputId": "e2cc04db-8043-4102-d712-08d3b9875d5e"
      },
      "outputs": [
        {
          "output_type": "stream",
          "name": "stdout",
          "text": [
            "Mounted at /content/drive\n"
          ]
        }
      ],
      "source": [
        "from google.colab import drive\n",
        "import pandas as pd\n",
        "\n",
        "# Mount Google Drive\n",
        "drive.mount('/content/drive')\n",
        "\n",
        "# Load the datasets\n",
        "varieties_file_path = '/content/drive/MyDrive/Rice Genie/RiceVarietiesData.xlsx'\n",
        "district_file_path = '/content/drive/MyDrive/Rice Genie/SriLankaDistricts.csv'\n",
        "\n",
        "varieties_data = pd.read_excel(varieties_file_path, sheet_name='Sheet1')\n",
        "district_data = pd.read_csv(district_file_path)\n",
        "\n",
        "# Merge datasets using inner join on 'Recommendation'\n",
        "combined_data = pd.merge(varieties_data, district_data, how='inner', on='Recommendation')\n"
      ]
    },
    {
      "cell_type": "code",
      "source": [
        "def convert_maturity_to_numeric(value):\n",
        "    if isinstance(value, str) and '-' in value:\n",
        "        parts = value.split('-')\n",
        "        return (int(parts[0]) + int(parts[1])) / 2\n",
        "    try:\n",
        "        return float(value)\n",
        "    except ValueError:\n",
        "        return np.nan\n",
        "\n",
        "# Convert 'Maturity (days)' to numeric averages\n",
        "combined_data['Maturity (days)'] = combined_data['Maturity (days)'].apply(convert_maturity_to_numeric)\n",
        "combined_data.dropna(subset=['Maturity (days)'], inplace=True)"
      ],
      "metadata": {
        "id": "oYLI3Er-uh3b"
      },
      "execution_count": 2,
      "outputs": []
    },
    {
      "cell_type": "code",
      "source": [
        "# Create a list of recommendation keywords/phrases that indicate suitability\n",
        "recommendation_keywords = [\n",
        "    \"Low Country Wet Zone\",\n",
        "    \"High potential area\",\n",
        "    \"Rainfed areas\",\n",
        "    \"Wet Zone\",\n",
        "    \"Saline prone areas\",\n",
        "    \"Northern region\",\n",
        "    \"Saline areas\",\n",
        "    \"Iron toxic soil and acidic soil\",\n",
        "    \"Major irrigation in Dry Zone and Intermediate Zone\",\n",
        "    \"Southern province\",\n",
        "    \"High potential areas in Low Country Wet Zone\",\n",
        "    \"Dry Zone\",\n",
        "    \"Rainfed areas of Dry and Intermediate Zone\",\n",
        "    \"Southern province\",\n",
        "    \"Low Country Intermediate Zone\",\n",
        "    \"Intermediate Zone\",\n",
        "    \"Saline and acidic soil\",\n",
        "    \"Dry Zone and Intermediate Zone\",\n",
        "    \"Kaluthara and Galle Districts\",\n",
        "    \"Drought escape variety\",\n",
        "    \"Rainfed and drought-prone areas\",\n",
        "    \"Suitable for water logging conditions\",\n",
        "    \"General cultivation\"\n",
        "]"
      ],
      "metadata": {
        "id": "Agtevyi-umVq"
      },
      "execution_count": 3,
      "outputs": []
    },
    {
      "cell_type": "code",
      "source": [
        "# Creating a new column 'Suitability' based on multiple recommendation criteria\n",
        "combined_data['Suitability'] = combined_data.apply(\n",
        "    lambda row: 1 if (any(keyword.lower() in str(row['Recommendation']).lower() for keyword in recommendation_keywords)\n",
        "                      and row['Average Yield (t/ha)'] >= 5.0) else 0,\n",
        "    axis=1\n",
        ")\n",
        "\n",
        "print(\"Column names in rice varieties dataset:\", varieties_data.columns)\n",
        "print(\"Column names in merged dataset:\", combined_data.columns)"
      ],
      "metadata": {
        "colab": {
          "base_uri": "https://localhost:8080/"
        },
        "id": "3H4uWpZqupxK",
        "outputId": "1fee83c8-1522-4832-f5d1-9c64f4310d0d"
      },
      "execution_count": 4,
      "outputs": [
        {
          "output_type": "stream",
          "name": "stdout",
          "text": [
            "Column names in rice varieties dataset: Index(['Variety Name', 'Year of Release', 'Parentage', 'Average Yield (t/ha)',\n",
            "       'Maturity (days)', 'Age Group', 'Basal Leaf Sheath Colour',\n",
            "       'Recommendation', 'Brown Rice Recovery (%)', 'Milling Recovery (%)',\n",
            "       'Head Rice Recovery (%)', 'Gelatinization Temperature',\n",
            "       '1000 Grain Weight (g)', 'Grain Shape', 'Pericarp Colour',\n",
            "       'Bushel Weight (Kg)', 'Reaction to Pest and Diseases'],\n",
            "      dtype='object')\n",
            "Column names in merged dataset: Index(['Variety Name', 'Year of Release', 'Parentage', 'Average Yield (t/ha)',\n",
            "       'Maturity (days)', 'Age Group', 'Basal Leaf Sheath Colour',\n",
            "       'Recommendation', 'Brown Rice Recovery (%)', 'Milling Recovery (%)',\n",
            "       'Head Rice Recovery (%)', 'Gelatinization Temperature',\n",
            "       '1000 Grain Weight (g)', 'Grain Shape', 'Pericarp Colour',\n",
            "       'Bushel Weight (Kg)', 'Reaction to Pest and Diseases', 'Province',\n",
            "       'District', 'Annual Temperature', 'Annual Humidity', 'Annual Rainfall',\n",
            "       'Suitability'],\n",
            "      dtype='object')\n"
          ]
        }
      ]
    },
    {
      "cell_type": "code",
      "source": [
        "from google.colab import files\n",
        "\n",
        "# Save the processed data to a CSV file\n",
        "combined_data.to_csv('/content/sample_data/merged_data.csv', index=False)\n",
        "\n",
        "# Download the CSV file\n",
        "files.download('/content/sample_data/merged_data.csv')"
      ],
      "metadata": {
        "colab": {
          "base_uri": "https://localhost:8080/",
          "height": 17
        },
        "id": "Nrl2XINnwCPk",
        "outputId": "e66d7c5a-015f-45a0-82cb-bd4c961cf1d5"
      },
      "execution_count": 20,
      "outputs": [
        {
          "output_type": "display_data",
          "data": {
            "text/plain": [
              "<IPython.core.display.Javascript object>"
            ],
            "application/javascript": [
              "\n",
              "    async function download(id, filename, size) {\n",
              "      if (!google.colab.kernel.accessAllowed) {\n",
              "        return;\n",
              "      }\n",
              "      const div = document.createElement('div');\n",
              "      const label = document.createElement('label');\n",
              "      label.textContent = `Downloading \"${filename}\": `;\n",
              "      div.appendChild(label);\n",
              "      const progress = document.createElement('progress');\n",
              "      progress.max = size;\n",
              "      div.appendChild(progress);\n",
              "      document.body.appendChild(div);\n",
              "\n",
              "      const buffers = [];\n",
              "      let downloaded = 0;\n",
              "\n",
              "      const channel = await google.colab.kernel.comms.open(id);\n",
              "      // Send a message to notify the kernel that we're ready.\n",
              "      channel.send({})\n",
              "\n",
              "      for await (const message of channel.messages) {\n",
              "        // Send a message to notify the kernel that we're ready.\n",
              "        channel.send({})\n",
              "        if (message.buffers) {\n",
              "          for (const buffer of message.buffers) {\n",
              "            buffers.push(buffer);\n",
              "            downloaded += buffer.byteLength;\n",
              "            progress.value = downloaded;\n",
              "          }\n",
              "        }\n",
              "      }\n",
              "      const blob = new Blob(buffers, {type: 'application/binary'});\n",
              "      const a = document.createElement('a');\n",
              "      a.href = window.URL.createObjectURL(blob);\n",
              "      a.download = filename;\n",
              "      div.appendChild(a);\n",
              "      a.click();\n",
              "      div.remove();\n",
              "    }\n",
              "  "
            ]
          },
          "metadata": {}
        },
        {
          "output_type": "display_data",
          "data": {
            "text/plain": [
              "<IPython.core.display.Javascript object>"
            ],
            "application/javascript": [
              "download(\"download_033901d3-f1f0-4814-b620-d00a60f7497e\", \"merged_data.csv\", 367072)"
            ]
          },
          "metadata": {}
        }
      ]
    },
    {
      "cell_type": "code",
      "source": [
        "from sklearn.preprocessing import LabelEncoder\n",
        "\n",
        "le_temperature = LabelEncoder()\n",
        "le_rainfall = LabelEncoder()\n",
        "\n",
        "# Encoding 'AnnualTemperature' and 'Annual Rainfall' into numerical values\n",
        "combined_data['Annual Temperature'] = le_temperature.fit_transform(combined_data['Annual Temperature'])\n",
        "combined_data['Annual Rainfall'] = le_rainfall.fit_transform(combined_data['Annual Rainfall'])\n",
        "\n",
        "# Define features (X) and target (y)\n",
        "features = [\n",
        "    'Average Yield (t/ha)', 'Maturity (days)', 'Annual Temperature', 'Annual Rainfall'\n",
        "]\n",
        "X = combined_data[features]\n",
        "y = combined_data['Suitability']\n"
      ],
      "metadata": {
        "id": "v94dsEO6uwWy"
      },
      "execution_count": 5,
      "outputs": []
    },
    {
      "cell_type": "code",
      "source": [
        "from sklearn.model_selection import train_test_split\n",
        "\n",
        "# Split the dataset into training and testing sets\n",
        "X_train, X_test, y_train, y_test = train_test_split(X, y, test_size=0.2, random_state=42)\n",
        "\n",
        "from sklearn.linear_model import LogisticRegression\n",
        "\n",
        "# Train the Logistic Regression model\n",
        "logreg_model = LogisticRegression(max_iter=1000, random_state=42)\n",
        "logreg_model.fit(X_train, y_train)\n",
        "\n",
        "from sklearn.metrics import classification_report, accuracy_score\n",
        "\n",
        "# Predict and evaluate the model\n",
        "y_pred = logreg_model.predict(X_test)\n",
        "accuracy = accuracy_score(y_test, y_pred)\n",
        "report = classification_report(y_test, y_pred)\n",
        "\n",
        "print(\"Accuracy (Logistic Regression):\", accuracy)\n",
        "print(report)\n"
      ],
      "metadata": {
        "colab": {
          "base_uri": "https://localhost:8080/"
        },
        "id": "klw2q905u3D6",
        "outputId": "bd22d9c4-e0ea-44aa-8348-151e5d811afc"
      },
      "execution_count": 6,
      "outputs": [
        {
          "output_type": "stream",
          "name": "stdout",
          "text": [
            "Accuracy (Logistic Regression): 0.9895833333333334\n",
            "              precision    recall  f1-score   support\n",
            "\n",
            "           0       1.00      0.98      0.99       141\n",
            "           1       0.98      1.00      0.99       147\n",
            "\n",
            "    accuracy                           0.99       288\n",
            "   macro avg       0.99      0.99      0.99       288\n",
            "weighted avg       0.99      0.99      0.99       288\n",
            "\n"
          ]
        }
      ]
    },
    {
      "cell_type": "code",
      "source": [
        "from sklearn.model_selection import cross_val_score\n",
        "import numpy as np\n",
        "\n",
        "# Perform 5-fold cross-validation\n",
        "cv_scores = cross_val_score(logreg_model, X, y, cv=10, scoring='accuracy')\n",
        "mean_cv_score = np.mean(cv_scores)\n",
        "print(\"Mean Cross-Validation Score (Logistic Regression):\", mean_cv_score)"
      ],
      "metadata": {
        "colab": {
          "base_uri": "https://localhost:8080/"
        },
        "id": "X72fWuGTu-GK",
        "outputId": "0e8db817-dcb6-4444-e356-790004371fe0"
      },
      "execution_count": 11,
      "outputs": [
        {
          "output_type": "stream",
          "name": "stdout",
          "text": [
            "Mean Cross-Validation Score (Logistic Regression): 0.98125\n"
          ]
        }
      ]
    },
    {
      "cell_type": "code",
      "source": [
        "from sklearn.metrics import confusion_matrix\n",
        "import matplotlib.pyplot as plt\n",
        "import seaborn as sns\n",
        "\n",
        "# Generate the confusion matrix\n",
        "conf_matrix = confusion_matrix(y_test, y_pred)\n",
        "\n",
        "# Plot the confusion matrix\n",
        "plt.figure(figsize=(8, 6))\n",
        "sns.heatmap(conf_matrix, annot=True, cmap=\"Blues\", fmt=\"d\", cbar=False)\n",
        "plt.xlabel('Predicted Labels')\n",
        "plt.ylabel('True Labels')\n",
        "plt.title('Confusion Matrix for Logistic Regression Model')\n",
        "plt.show()"
      ],
      "metadata": {
        "colab": {
          "base_uri": "https://localhost:8080/",
          "height": 564
        },
        "id": "SfKZlRIQu6Ns",
        "outputId": "b4042d04-cdcb-4a78-ff60-279e8f49d301"
      },
      "execution_count": 14,
      "outputs": [
        {
          "output_type": "display_data",
          "data": {
            "text/plain": [
              "<Figure size 800x600 with 1 Axes>"
            ],
            "image/png": "[encoded data removed]"
          },
          "metadata": {}
        }
      ]
    },
    {
      "cell_type": "code",
      "source": [
        "from sklearn.model_selection import train_test_split\n",
        "from sklearn.metrics import accuracy_score\n",
        "\n",
        "X_train, X_temp, y_train, y_temp = train_test_split(X, y, test_size=0.3, random_state=42)\n",
        "X_val, X_test, y_val, y_test = train_test_split(X_temp, y_temp, test_size=0.5, random_state=42)\n",
        "\n",
        "\n",
        "# Training accuracy\n",
        "y_train_pred = logreg_model.predict(X_train)\n",
        "train_accuracy = accuracy_score(y_train, y_train_pred)\n",
        "\n",
        "# Validation accuracy\n",
        "y_val_pred = logreg_model.predict(X_val)\n",
        "val_accuracy = accuracy_score(y_val, y_val_pred)\n",
        "\n",
        "print(f\"Training Accuracy: {train_accuracy * 100}\")\n",
        "print(f\"Validation Accuracy: {val_accuracy * 100}\")"
      ],
      "metadata": {
        "colab": {
          "base_uri": "https://localhost:8080/"
        },
        "id": "A9iBrU1yvQn7",
        "outputId": "17ef5a55-89b3-4e00-8971-b5d9c5df000f"
      },
      "execution_count": 16,
      "outputs": [
        {
          "output_type": "stream",
          "name": "stdout",
          "text": [
            "Training Accuracy: 98.30845771144278\n",
            "Validation Accuracy: 98.6046511627907\n"
          ]
        }
      ]
    },
    {
      "cell_type": "code",
      "source": [
        "from sklearn.model_selection import learning_curve\n",
        "import matplotlib.pyplot as plt\n",
        "import numpy as np\n",
        "\n",
        "# Generate learning curve data\n",
        "train_sizes, train_scores, val_scores = learning_curve(logreg_model, X_train, y_train, cv=5, scoring='accuracy')\n",
        "\n",
        "# Compute mean and standard deviation for train/validation scores\n",
        "train_mean = np.mean(train_scores, axis=1)\n",
        "train_std = np.std(train_scores, axis=1)\n",
        "val_mean = np.mean(val_scores, axis=1)\n",
        "val_std = np.std(val_scores, axis=1)\n",
        "\n",
        "# Plot the learning curve\n",
        "plt.plot(train_sizes, train_mean, label='Training Accuracy')\n",
        "plt.plot(train_sizes, val_mean, label='Validation Accuracy')\n",
        "plt.fill_between(train_sizes, train_mean - train_std, train_mean + train_std, alpha=0.1)\n",
        "plt.fill_between(train_sizes, val_mean - val_std, val_mean + val_std, alpha=0.1)\n",
        "plt.xlabel('Training Set Size')\n",
        "plt.ylabel('Accuracy')\n",
        "plt.title('Learning Curve')\n",
        "plt.legend()\n",
        "plt.show()"
      ],
      "metadata": {
        "colab": {
          "base_uri": "https://localhost:8080/",
          "height": 472
        },
        "id": "SkwdR61ivlb8",
        "outputId": "33f3c467-60b9-4fcb-b442-366dd19f1b81"
      },
      "execution_count": 17,
      "outputs": [
        {
          "output_type": "display_data",
          "data": {
            "text/plain": [
              "<Figure size 640x480 with 1 Axes>"
            ],
            "image/png": "[encoded data removed]"
          },
          "metadata": {}
        }
      ]
    },
    {
      "cell_type": "code",
      "source": [
        "import pandas as pd\n",
        "from sklearn.model_selection import train_test_split\n",
        "\n",
        "# Example: Loading a CSV file into a DataFrame\n",
        "df = pd.read_csv('/content/sample_data/merged_data.csv')\n",
        "\n",
        "# Assuming 'target' is your target column, and the rest are feature columns\n",
        "X_train, X_test, y_train, y_test = train_test_split(df.drop('Recommendation', axis=1), df['Recommendation'], test_size=0.2, random_state=42)\n",
        "\n",
        "# Save the test set to a CSV file\n",
        "test_data = pd.concat([X_test, y_test], axis=1)  # Combine features and target for test set\n",
        "test_data.to_csv('/content/sample_data/test_data.csv', index=False)"
      ],
      "metadata": {
        "id": "ZvEqqvMpv5gS"
      },
      "execution_count": 21,
      "outputs": []
    },
    {
      "cell_type": "code",
      "source": [
        "# Define a function to map maturity in days to age groups\n",
        "def map_to_age_group(maturity_days):\n",
        "    if maturity_days < 90:\n",
        "        return \"2.5\"\n",
        "    elif 90 <= maturity_days < 105:\n",
        "        return \"3\"\n",
        "    elif 105 <= maturity_days < 120:\n",
        "        return \"3.5\"\n",
        "    elif 120 <= maturity_days <= 135:\n",
        "        return \"4-4.5\"\n",
        "    elif maturity_days > 135:\n",
        "        return \"5-6\"\n",
        "    else:\n",
        "        return None\n",
        "\n",
        "# Apply the mapping function\n",
        "combined_data['Age Group'] = combined_data['Maturity (days)'].apply(map_to_age_group)"
      ],
      "metadata": {
        "id": "eScq4oWIwZOT"
      },
      "execution_count": 22,
      "outputs": []
    },
    {
      "cell_type": "code",
      "source": [
        "def predict_suitable_varieties_for_district(province_name, district_name, district_data, varieties_data, model):\n",
        "    # Filter the district data by the specified province and district\n",
        "    district_conditions = district_data[\n",
        "        (district_data['Province'] == province_name) &\n",
        "        (district_data['District'] == district_name)\n",
        "    ]\n",
        "\n",
        "    if district_conditions.empty:\n",
        "        raise ValueError(f\"No data found for district '{district_name}' in province '{province_name}'.\")\n",
        "\n",
        "    # Extract the environmental conditions for prediction\n",
        "    district_conditions = district_conditions.iloc[0]\n",
        "    annual_temperature = le_temperature.transform([district_conditions['Annual Temperature']])[0]\n",
        "    annual_rainfall = le_rainfall.transform([district_conditions['Annual Rainfall']])[0]\n",
        "\n",
        "    # Prepare the prediction data\n",
        "    prediction_data = varieties_data.copy()\n",
        "    prediction_data['Annual Temperature'] = annual_temperature\n",
        "    prediction_data['Annual Rainfall'] = annual_rainfall\n",
        "\n",
        "    # Ensure 'Maturity (days)' is numeric\n",
        "    prediction_data['Maturity (days)'] = prediction_data['Maturity (days)'].apply(convert_maturity_to_numeric)\n",
        "    prediction_data.dropna(subset=['Maturity (days)'], inplace=True)\n",
        "\n",
        "    # Add 'Age Group' if not already present\n",
        "    if 'Age Group' not in prediction_data.columns:\n",
        "        prediction_data['Age Group'] = prediction_data['Maturity (days)'].apply(map_to_age_group)\n",
        "\n",
        "    # Prepare features for prediction\n",
        "    X_pred = prediction_data[['Average Yield (t/ha)', 'Maturity (days)', 'Annual Temperature', 'Annual Rainfall']]\n",
        "\n",
        "    # Predict suitability for each variety\n",
        "    prediction_data['Suitability'] = model.predict(X_pred)\n",
        "\n",
        "    # Filter suitable varieties\n",
        "    suitable_varieties = prediction_data[prediction_data['Suitability'] == 1]\n",
        "\n",
        "    return suitable_varieties[['Variety Name', 'Average Yield (t/ha)', 'Maturity (days)', 'Age Group',\n",
        "                               'Gelatinization Temperature', 'Grain Shape']]\n"
      ],
      "metadata": {
        "id": "jQT3ShdGwaoK"
      },
      "execution_count": 23,
      "outputs": []
    },
    {
      "cell_type": "code",
      "source": [
        "print(\"Unique Age Groups in Combined Data:\")\n",
        "print(combined_data['Age Group'].unique())"
      ],
      "metadata": {
        "colab": {
          "base_uri": "https://localhost:8080/"
        },
        "id": "ziAxVeqtwfya",
        "outputId": "9ff9f099-1ba3-4573-8b22-00868a72c02e"
      },
      "execution_count": 24,
      "outputs": [
        {
          "output_type": "stream",
          "name": "stdout",
          "text": [
            "Unique Age Groups in Combined Data:\n",
            "['4-4.5' '3.5' '5-6' '3' '2.5']\n"
          ]
        }
      ]
    },
    {
      "cell_type": "code",
      "source": [
        "province_name = input(\"Enter the province name: \").strip()\n",
        "district_name = input(\"Enter the district name: \").strip()\n",
        "age_group = input(\"Enter the preferred age group (2.5, 3, 3.5, 4-4.5, 5-6): \").strip()\n",
        "\n",
        "try:\n",
        "    # Call the prediction function\n",
        "    recommended_varieties = predict_suitable_varieties_for_district(province_name, district_name, district_data, varieties_data, logreg_model)\n",
        "\n",
        "    # Convert 'Age Group' column and user input to consistent format\n",
        "    recommended_varieties['Age Group'] = recommended_varieties['Age Group'].astype(str)  # Ensure column is string\n",
        "    age_group = str(age_group)  # Ensure user input is string\n",
        "\n",
        "    # Debugging: Print unique age groups to confirm consistency\n",
        "    print(\"\\nUnique Age Groups in Predicted Varieties:\")\n",
        "    print(recommended_varieties['Age Group'].unique())\n",
        "\n",
        "    # Filter the varieties based on the age group\n",
        "    filtered_varieties = recommended_varieties[recommended_varieties['Age Group'] == age_group]\n",
        "\n",
        "    # Debugging: Print filtered varieties\n",
        "    print(\"\\nFiltered Varieties (After Age Group Filtering):\")\n",
        "    print(filtered_varieties)\n",
        "\n",
        "    # Display the results\n",
        "    if not filtered_varieties.empty:\n",
        "        print(f\"\\nRecommended Rice Varieties for {district_name} District in Age Group {age_group} months:\")\n",
        "        print(filtered_varieties)\n",
        "    else:\n",
        "        print(f\"\\nNo suitable rice varieties found for {district_name} District in Age Group {age_group} months.\")\n",
        "\n",
        "except ValueError as e:\n",
        "    print(e)"
      ],
      "metadata": {
        "colab": {
          "base_uri": "https://localhost:8080/"
        },
        "id": "n5iZmLfJwkRK",
        "outputId": "a97979a0-f902-4aa9-a2cd-355d7036d94b"
      },
      "execution_count": 26,
      "outputs": [
        {
          "output_type": "stream",
          "name": "stdout",
          "text": [
            "Enter the province name: Eastern Province\n",
            "Enter the district name: Trincomalee\n",
            "Enter the preferred age group (2.5, 3, 3.5, 4-4.5, 5-6): 3\n",
            "\n",
            "Unique Age Groups in Predicted Varieties:\n",
            "['3' '4-4.5 ' '3.5' '5-6']\n",
            "\n",
            "Filtered Varieties (After Age Group Filtering):\n",
            "   Variety Name  Average Yield (t/ha)  Maturity (days) Age Group  \\\n",
            "7       Bg 34-6                   5.5            105.0         3   \n",
            "8       Bg 34-8                   6.1             96.0         3   \n",
            "16      Bg 94-2                   5.9            105.0         3   \n",
            "20       Bg 310                   5.6             96.5         3   \n",
            "27       At 313                   5.5             93.0         3   \n",
            "56       At 308                   5.1             95.0         3   \n",
            "65       At 303                   5.0             90.0         3   \n",
            "66       Bg 305                   5.0             93.0         3   \n",
            "84       Bg 301                   6.0             92.5         3   \n",
            "85       Bg 301                   6.0             92.5         3   \n",
            "86       Bg 403                   5.8            118.0         3   \n",
            "96       At 307                   5.0             97.0         3   \n",
            "\n",
            "   Gelatinization Temperature          Grain Shape  \n",
            "7                Intermediate    Intermediate Bold  \n",
            "8                Intermediate    Intermediate Bold  \n",
            "16                       High          Long Medium  \n",
            "20               Intermediate    Intermediate Bold  \n",
            "27               Intermediate         Long Slender  \n",
            "56                       High          Short Round  \n",
            "65                       High          Long Medium  \n",
            "66               Intermediate  Intermediate Medium  \n",
            "84          High-Intermediate  Intermediate Medium  \n",
            "85          High-Intermediate  Intermediate Medium  \n",
            "86               Intermediate    Intermediate Bold  \n",
            "96          High-Intermediate    Intermediate Bold  \n",
            "\n",
            "Recommended Rice Varieties for Trincomalee District in Age Group 3 months:\n",
            "   Variety Name  Average Yield (t/ha)  Maturity (days) Age Group  \\\n",
            "7       Bg 34-6                   5.5            105.0         3   \n",
            "8       Bg 34-8                   6.1             96.0         3   \n",
            "16      Bg 94-2                   5.9            105.0         3   \n",
            "20       Bg 310                   5.6             96.5         3   \n",
            "27       At 313                   5.5             93.0         3   \n",
            "56       At 308                   5.1             95.0         3   \n",
            "65       At 303                   5.0             90.0         3   \n",
            "66       Bg 305                   5.0             93.0         3   \n",
            "84       Bg 301                   6.0             92.5         3   \n",
            "85       Bg 301                   6.0             92.5         3   \n",
            "86       Bg 403                   5.8            118.0         3   \n",
            "96       At 307                   5.0             97.0         3   \n",
            "\n",
            "   Gelatinization Temperature          Grain Shape  \n",
            "7                Intermediate    Intermediate Bold  \n",
            "8                Intermediate    Intermediate Bold  \n",
            "16                       High          Long Medium  \n",
            "20               Intermediate    Intermediate Bold  \n",
            "27               Intermediate         Long Slender  \n",
            "56                       High          Short Round  \n",
            "65                       High          Long Medium  \n",
            "66               Intermediate  Intermediate Medium  \n",
            "84          High-Intermediate  Intermediate Medium  \n",
            "85          High-Intermediate  Intermediate Medium  \n",
            "86               Intermediate    Intermediate Bold  \n",
            "96          High-Intermediate    Intermediate Bold  \n"
          ]
        }
      ]
    },
    {
      "cell_type": "code",
      "source": [
        "province_name = input(\"Enter the province name: \").strip()\n",
        "district_name = input(\"Enter the district name: \").strip()\n",
        "age_group = input(\"Enter the preferred age group (2.5, 3, 3.5, 4-4.5, 5-6): \").strip()\n",
        "\n",
        "try:\n",
        "    # Call the prediction function\n",
        "    recommended_varieties = predict_suitable_varieties_for_district(province_name, district_name, district_data, varieties_data, logreg_model)\n",
        "\n",
        "    # Convert 'Age Group' column and user input to consistent format\n",
        "    recommended_varieties['Age Group'] = recommended_varieties['Age Group'].astype(str)  # Ensure column is string\n",
        "    age_group = str(age_group)  # Ensure user input is string\n",
        "\n",
        "    # Debugging: Print unique age groups to confirm consistency\n",
        "    print(\"\\nUnique Age Groups in Predicted Varieties:\")\n",
        "    print(recommended_varieties['Age Group'].unique())\n",
        "\n",
        "    # Filter the varieties based on the age group\n",
        "    filtered_varieties = recommended_varieties[recommended_varieties['Age Group'] == age_group]\n",
        "\n",
        "    # Debugging: Print filtered varieties\n",
        "    # print(\"\\nFiltered Varieties (After Age Group Filtering):\")\n",
        "    # print(filtered_varieties)\n",
        "\n",
        "    # Display the results\n",
        "    if not filtered_varieties.empty:\n",
        "        print(f\"\\nRecommended Rice Varieties for {district_name} District in Age Group {age_group} months:\")\n",
        "        print(filtered_varieties)\n",
        "    else:\n",
        "        print(f\"\\nNo suitable rice varieties found for {district_name} District in Age Group {age_group} months.\")\n",
        "\n",
        "except ValueError as e:\n",
        "    print(e)"
      ],
      "metadata": {
        "colab": {
          "base_uri": "https://localhost:8080/"
        },
        "id": "fzi5vYFjxKr6",
        "outputId": "87445330-0a42-4829-8941-ebdc322802eb"
      },
      "execution_count": 27,
      "outputs": [
        {
          "output_type": "stream",
          "name": "stdout",
          "text": [
            "Enter the province name: North Western Province\n",
            "Enter the district name: Puttalam\n",
            "Enter the preferred age group (2.5, 3, 3.5, 4-4.5, 5-6): 3.5\n",
            "\n",
            "Unique Age Groups in Predicted Varieties:\n",
            "['3' '4-4.5 ' '3.5' '5-6']\n",
            "\n",
            "Recommended Rice Varieties for Puttalam District in Age Group 3.5 months:\n",
            "   Variety Name  Average Yield (t/ha)  Maturity (days) Age Group  \\\n",
            "19       At 362                   6.0            110.0       3.5   \n",
            "21       At 373                   4.9            103.0       3.5   \n",
            "23       Bg 375                   5.4            107.0       3.5   \n",
            "24       Ld 376                   5.0            110.0       3.5   \n",
            "26       At 378                   5.8            101.0       3.5   \n",
            "32       Bw 367                   5.2            106.5       3.5   \n",
            "33       Bw 367                   5.2            106.5       3.5   \n",
            "53       Bg 369                   5.5            104.0       3.5   \n",
            "55       Bg 374                   5.8            106.5       3.5   \n",
            "57       Bg 366                   6.0             99.5       3.5   \n",
            "58       Bg 370                   5.4            105.0       3.5   \n",
            "59       At 353                   5.2            105.0       3.5   \n",
            "60       At 354                   5.0            105.0       3.5   \n",
            "67       Bg 350                   8.5            105.0       3.5   \n",
            "83       Bg 300                   5.0             93.0       3.5   \n",
            "89       Bg 357                   5.8            105.0       3.5   \n",
            "91       Bg 359                   5.0            104.0       3.5   \n",
            "\n",
            "   Gelatinization Temperature        Grain Shape  \n",
            "19                        Low        Long Medium  \n",
            "21          High-Intermediate       Short Oblong  \n",
            "23          High-Intermediate        Short Round  \n",
            "24          High-Intermediate       Long Slender  \n",
            "26          High-Intermediate  Intermediate Bold  \n",
            "32               Intermediate        Short Round  \n",
            "33               Intermediate        Short Round  \n",
            "53               Intermediate        Long Medium  \n",
            "55                       High  Intermediate Bold  \n",
            "57               Intermediate  Intermediate Bold  \n",
            "58               Intermediate        Short Round  \n",
            "59                        Low        Long Medium  \n",
            "60           Low-Intermediate        Long Medium  \n",
            "67                        Low        Long Medium  \n",
            "83               Intermediate  Intermediate Bold  \n",
            "89          High-Intermediate        Long Medium  \n",
            "91          High-Intermediate  Intermediate Bold  \n"
          ]
        }
      ]
    }
  ]
}