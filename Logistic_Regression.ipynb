{
  "nbformat": 4,
  "nbformat_minor": 0,
  "metadata": {
    "colab": {
      "provenance": [],
      "authorship_tag": "ABX9TyNGAyy+hlqNT+pQ89ED+a+4",
      "include_colab_link": true
    },
    "kernelspec": {
      "name": "python3",
      "display_name": "Python 3"
    },
    "language_info": {
      "name": "python"
    }
  },
  "cells": [
    {
      "cell_type": "markdown",
      "metadata": {
        "id": "view-in-github",
        "colab_type": "text"
      },
      "source": [
        "<a href=\"https://colab.research.google.com/github/IndeewaAmarasinghe/RP-2024-25J-125-Crop-yield-prediction---Paddy-harvest-/blob/IT21227868-Rice-Variety-Recommendation/Logistic_Regression.ipynb\" target=\"_parent\"><img src=\"https://colab.research.google.com/assets/colab-badge.svg\" alt=\"Open In Colab\"/></a>"
      ]
    },
    {
      "cell_type": "code",
      "execution_count": null,
      "metadata": {
        "colab": {
          "base_uri": "https://localhost:8080/"
        },
        "id": "T8A_1P1fuTys",
        "outputId": "de116b16-b715-4103-fb31-f5e5b5fc320e"
      },
      "outputs": [
        {
          "output_type": "stream",
          "name": "stdout",
          "text": [
            "Mounted at /content/drive\n"
          ]
        }
      ],
      "source": [
        "from google.colab import drive\n",
        "import pandas as pd\n",
        "\n",
        "# Mount Google Drive\n",
        "drive.mount('/content/drive')\n",
        "\n",
        "# Load the datasets\n",
        "varieties_file_path = '/content/drive/MyDrive/Rice Genie/RiceVarietiesData.xlsx'\n",
        "district_file_path = '/content/drive/MyDrive/Rice Genie/SriLankaDistricts.csv'\n",
        "\n",
        "varieties_data = pd.read_excel(varieties_file_path, sheet_name='Sheet1')\n",
        "district_data = pd.read_csv(district_file_path)\n",
        "\n",
        "# Merge datasets using inner join on 'Recommendation'\n",
        "combined_data = pd.merge(varieties_data, district_data, how='inner', on='Recommendation')\n"
      ]
    },
    {
      "cell_type": "code",
      "source": [
        "def convert_maturity_to_numeric(value):\n",
        "    if isinstance(value, str) and '-' in value:\n",
        "        parts = value.split('-')\n",
        "        return (int(parts[0]) + int(parts[1])) / 2\n",
        "    try:\n",
        "        return float(value)\n",
        "    except ValueError:\n",
        "        return np.nan\n",
        "\n",
        "# Convert 'Maturity (days)' to numeric averages\n",
        "combined_data['Maturity (days)'] = combined_data['Maturity (days)'].apply(convert_maturity_to_numeric)\n",
        "combined_data.dropna(subset=['Maturity (days)'], inplace=True)"
      ],
      "metadata": {
        "id": "oYLI3Er-uh3b"
      },
      "execution_count": null,
      "outputs": []
    },
    {
      "cell_type": "code",
      "source": [
        "# Create a list of recommendation keywords/phrases that indicate suitability\n",
        "recommendation_keywords = [\n",
        "    \"Low Country Wet Zone\",\n",
        "    \"High potential area\",\n",
        "    \"Rainfed areas\",\n",
        "    \"Wet Zone\",\n",
        "    \"Saline prone areas\",\n",
        "    \"Northern region\",\n",
        "    \"Saline areas\",\n",
        "    \"Iron toxic soil and acidic soil\",\n",
        "    \"Major irrigation in Dry Zone and Intermediate Zone\",\n",
        "    \"Southern province\",\n",
        "    \"High potential areas in Low Country Wet Zone\",\n",
        "    \"Dry Zone\",\n",
        "    \"Rainfed areas of Dry and Intermediate Zone\",\n",
        "    \"General cultivation\"\n",
        "]"
      ],
      "metadata": {
        "id": "Agtevyi-umVq"
      },
      "execution_count": null,
      "outputs": []
    },
    {
      "cell_type": "code",
      "source": [
        "# Creating a new column 'Suitability' based on multiple recommendation criteria\n",
        "combined_data['Suitability'] = combined_data.apply(\n",
        "    lambda row: 1 if (any(keyword.lower() in str(row['Recommendation']).lower() for keyword in recommendation_keywords)\n",
        "                      and row['Average Yield (t/ha)'] >= 5.0) else 0,\n",
        "    axis=1\n",
        ")\n",
        "\n",
        "print(\"Column names in rice varieties dataset:\", varieties_data.columns)\n",
        "print(\"Column names in merged dataset:\", combined_data.columns)"
      ],
      "metadata": {
        "colab": {
          "base_uri": "https://localhost:8080/"
        },
        "id": "3H4uWpZqupxK",
        "outputId": "bd29e8f8-b16a-4b8b-d989-a36331f8d198"
      },
      "execution_count": null,
      "outputs": [
        {
          "output_type": "stream",
          "name": "stdout",
          "text": [
            "Column names in rice varieties dataset: Index(['Variety Name', 'Year of Release', 'Parentage', 'Average Yield (t/ha)',\n",
            "       'Maturity (days)', 'Age Group', 'Basal Leaf Sheath Colour',\n",
            "       'Recommendation', 'Brown Rice Recovery (%)', 'Milling Recovery (%)',\n",
            "       'Head Rice Recovery (%)', 'Gelatinization Temperature',\n",
            "       '1000 Grain Weight (g)', 'Grain Shape', 'Pericarp Colour',\n",
            "       'Bushel Weight (Kg)', 'Reaction to Pest and Diseases'],\n",
            "      dtype='object')\n",
            "Column names in merged dataset: Index(['Variety Name', 'Year of Release', 'Parentage', 'Average Yield (t/ha)',\n",
            "       'Maturity (days)', 'Age Group', 'Basal Leaf Sheath Colour',\n",
            "       'Recommendation', 'Brown Rice Recovery (%)', 'Milling Recovery (%)',\n",
            "       'Head Rice Recovery (%)', 'Gelatinization Temperature',\n",
            "       '1000 Grain Weight (g)', 'Grain Shape', 'Pericarp Colour',\n",
            "       'Bushel Weight (Kg)', 'Reaction to Pest and Diseases', 'Province',\n",
            "       'District', 'Annual Temperature', 'Annual Humidity', 'Annual Rainfall',\n",
            "       'Suitability'],\n",
            "      dtype='object')\n"
          ]
        }
      ]
    },
    {
      "cell_type": "code",
      "source": [
        "from sklearn.preprocessing import LabelEncoder\n",
        "\n",
        "le_temperature = LabelEncoder()\n",
        "le_rainfall = LabelEncoder()\n",
        "\n",
        "# Encoding 'AnnualTemperature' and 'Annual Rainfall' into numerical values\n",
        "combined_data['Annual Temperature'] = le_temperature.fit_transform(combined_data['Annual Temperature'])\n",
        "combined_data['Annual Rainfall'] = le_rainfall.fit_transform(combined_data['Annual Rainfall'])\n",
        "\n",
        "# Define features (X) and target (y)\n",
        "features = [\n",
        "    'Average Yield (t/ha)', 'Maturity (days)', 'Annual Temperature', 'Annual Rainfall'\n",
        "]\n",
        "X = combined_data[features]\n",
        "y = combined_data['Suitability']\n"
      ],
      "metadata": {
        "id": "v94dsEO6uwWy"
      },
      "execution_count": null,
      "outputs": []
    },
    {
      "cell_type": "code",
      "source": [
        "from sklearn.model_selection import train_test_split\n",
        "\n",
        "# Split the dataset into training and testing sets\n",
        "X_train, X_test, y_train, y_test = train_test_split(X, y, test_size=0.2, random_state=42)\n",
        "\n",
        "from sklearn.linear_model import LogisticRegression\n",
        "\n",
        "# Train the Logistic Regression model\n",
        "logreg_model = LogisticRegression(max_iter=1000, random_state=42)\n",
        "logreg_model.fit(X_train, y_train)\n",
        "\n",
        "from sklearn.metrics import classification_report, accuracy_score\n",
        "\n",
        "# Predict and evaluate the model\n",
        "y_pred = logreg_model.predict(X_test)\n",
        "accuracy = accuracy_score(y_test, y_pred)\n",
        "report = classification_report(y_test, y_pred)\n",
        "\n",
        "print(\"Accuracy (Logistic Regression):\", accuracy)\n",
        "print(report)\n"
      ],
      "metadata": {
        "colab": {
          "base_uri": "https://localhost:8080/"
        },
        "id": "klw2q905u3D6",
        "outputId": "a4f1f27d-e09e-47a3-a050-536bd4510d0c"
      },
      "execution_count": null,
      "outputs": [
        {
          "output_type": "stream",
          "name": "stdout",
          "text": [
            "Accuracy (Logistic Regression): 0.9895833333333334\n",
            "              precision    recall  f1-score   support\n",
            "\n",
            "           0       1.00      0.98      0.99       141\n",
            "           1       0.98      1.00      0.99       147\n",
            "\n",
            "    accuracy                           0.99       288\n",
            "   macro avg       0.99      0.99      0.99       288\n",
            "weighted avg       0.99      0.99      0.99       288\n",
            "\n"
          ]
        }
      ]
    },
    {
      "cell_type": "code",
      "source": [
        "from sklearn.model_selection import cross_val_score\n",
        "import numpy as np\n",
        "\n",
        "# Perform 5-fold cross-validation\n",
        "cv_scores = cross_val_score(logreg_model, X, y, cv=5, scoring='accuracy')\n",
        "mean_cv_score = np.mean(cv_scores)\n",
        "print(\"Mean Cross-Validation Score (Logistic Regression):\", mean_cv_score)"
      ],
      "metadata": {
        "colab": {
          "base_uri": "https://localhost:8080/"
        },
        "id": "X72fWuGTu-GK",
        "outputId": "c31f6a7d-6e29-4d8d-9733-d25f59a5cd02"
      },
      "execution_count": null,
      "outputs": [
        {
          "output_type": "stream",
          "name": "stdout",
          "text": [
            "Mean Cross-Validation Score (Logistic Regression): 0.9658536585365853\n"
          ]
        }
      ]
    },
    {
      "cell_type": "code",
      "source": [
        "def predict_suitable_varieties_for_district(district_name, district_data, varieties_data, model):\n",
        "    # Get the environmental conditions for the specified district\n",
        "    district_conditions = district_data[district_data['District'] == district_name].iloc[0]\n",
        "\n",
        "    # Extract the relevant features for prediction\n",
        "    annual_temperature = le_temperature.transform([district_conditions['Annual Temperature']])[0]\n",
        "    annual_rainfall = le_rainfall.transform([district_conditions['Annual Rainfall']])[0]\n",
        "\n",
        "    # Create a dataframe for prediction with the relevant features of each variety combined with district conditions\n",
        "    prediction_data = varieties_data.copy()\n",
        "    prediction_data['Annual Temperature'] = annual_temperature\n",
        "    prediction_data['Annual Rainfall'] = annual_rainfall\n",
        "\n",
        "    # Convert maturity to numeric where applicable\n",
        "    prediction_data['Maturity (days)'] = prediction_data['Maturity (days)'].apply(convert_maturity_to_numeric)\n",
        "    prediction_data.dropna(subset=['Maturity (days)'], inplace=True)\n",
        "\n",
        "    # Prepare the feature set\n",
        "    X_pred = prediction_data[['Average Yield (t/ha)', 'Maturity (days)', 'Annual Temperature', 'Annual Rainfall']]\n",
        "\n",
        "    # Predict suitability for each rice variety\n",
        "    prediction_data['Suitability'] = model.predict(X_pred)\n",
        "\n",
        "    # Filter for suitable varieties\n",
        "    suitable_varieties = prediction_data[prediction_data['Suitability'] == 1]\n",
        "\n",
        "    # Return the suitable varieties\n",
        "    return suitable_varieties[['Variety Name', 'Average Yield (t/ha)', 'Maturity (days)', 'Gelatinization Temperature', 'Grain Shape']]\n"
      ],
      "metadata": {
        "id": "YP2ReLcgvCL6"
      },
      "execution_count": null,
      "outputs": []
    },
    {
      "cell_type": "code",
      "source": [
        "recommended_varieties_jaffna = predict_suitable_varieties_for_district('Jaffna', district_data, varieties_data, logreg_model)\n",
        "\n",
        "# Print the results\n",
        "print(\"Recommended Rice Varieties for Jaffna District (Logistic Regression):\")\n",
        "print(recommended_varieties_jaffna)"
      ],
      "metadata": {
        "colab": {
          "base_uri": "https://localhost:8080/"
        },
        "id": "BE6X42isvLsi",
        "outputId": "c0f708f1-3825-4cc7-b0d1-3c7513263c45"
      },
      "execution_count": null,
      "outputs": [
        {
          "output_type": "stream",
          "name": "stdout",
          "text": [
            "Recommended Rice Varieties for Jaffna District (Logistic Regression):\n",
            "   Variety Name  Average Yield (t/ha)  Maturity (days)  \\\n",
            "7       Bg 34-6                   5.5            105.0   \n",
            "8       Bg 34-8                   6.1             96.0   \n",
            "14      Bg 90-2                   6.5            120.0   \n",
            "16      Bg 94-2                   5.9            105.0   \n",
            "19       At 362                   6.0            110.0   \n",
            "20       Bg 310                   5.6             96.5   \n",
            "21       At 373                   4.9            103.0   \n",
            "22       Bg 455                   6.0            130.0   \n",
            "23       Bg 375                   5.4            107.0   \n",
            "24       Ld 376                   5.0            110.0   \n",
            "26       At 378                   5.8            101.0   \n",
            "27       At 313                   5.5             93.0   \n",
            "30       Bg 409                   6.0            112.5   \n",
            "32       Bw 367                   5.2            106.5   \n",
            "33       Bw 367                   5.2            106.5   \n",
            "38       Bg 406                   5.0            120.0   \n",
            "39       Bg 407                   5.5            170.0   \n",
            "41       Bw 400                   5.0            120.0   \n",
            "42       Bw 452                   5.0            135.0   \n",
            "43       At 402                   6.0            117.5   \n",
            "45       At 401                   5.0            120.0   \n",
            "46      Bg 407H                   8.0            118.0   \n",
            "47       Bw 453                   5.5            135.0   \n",
            "53       Bg 369                   5.5            104.0   \n",
            "55       Bg 374                   5.8            106.5   \n",
            "56       At 308                   5.1             95.0   \n",
            "57       Bg 366                   6.0             99.5   \n",
            "58       Bg 370                   5.4            105.0   \n",
            "59       At 353                   5.2            105.0   \n",
            "60       At 354                   5.0            105.0   \n",
            "61       Ld 408                   5.0            112.0   \n",
            "63       Bg 380                   6.5            115.0   \n",
            "64       Bg 450                   5.3            127.5   \n",
            "65       At 303                   5.0             90.0   \n",
            "66       Bg 305                   5.0             93.0   \n",
            "67       Bg 350                   8.5            105.0   \n",
            "69       Bw 451                   5.5            120.0   \n",
            "70       Bw 451                   5.5            120.0   \n",
            "75     Bg 379-2                   6.1            127.5   \n",
            "76     Bg 400-1                   5.9            135.0   \n",
            "81        Bg 38                   6.0            155.0   \n",
            "82       Bg 745                   6.0            150.0   \n",
            "83       Bg 300                   5.0             93.0   \n",
            "84       Bg 301                   6.0             92.5   \n",
            "85       Bg 301                   6.0             92.5   \n",
            "86       Bg 403                   5.8            118.0   \n",
            "89       Bg 357                   5.8            105.0   \n",
            "91       Bg 359                   5.0            104.0   \n",
            "96       At 307                   5.0             97.0   \n",
            "\n",
            "   Gelatinization Temperature          Grain Shape  \n",
            "7                Intermediate    Intermediate Bold  \n",
            "8                Intermediate    Intermediate Bold  \n",
            "14               Intermediate          Long Medium  \n",
            "16                       High          Long Medium  \n",
            "19                        Low          Long Medium  \n",
            "20               Intermediate    Intermediate Bold  \n",
            "21          High-Intermediate         Short Oblong  \n",
            "22               Intermediate    Intermediate Bold  \n",
            "23          High-Intermediate          Short Round  \n",
            "24          High-Intermediate         Long Slender  \n",
            "26          High-Intermediate    Intermediate Bold  \n",
            "27               Intermediate         Long Slender  \n",
            "30               Intermediate    Intermediate Bold  \n",
            "32               Intermediate          Short Round  \n",
            "33               Intermediate          Short Round  \n",
            "38                        Low    Intermediate Bold  \n",
            "39               Intermediate    Intermediate Bold  \n",
            "41               Intermediate    Intermediate Bold  \n",
            "42                        Low  Intermediate Medium  \n",
            "43               Intermediate  Intermediate Medium  \n",
            "45               Intermediate          Long Medium  \n",
            "46                        Low         Long Slender  \n",
            "47                        Low  Intermediate Medium  \n",
            "53               Intermediate          Long Medium  \n",
            "55                       High    Intermediate Bold  \n",
            "56                       High          Short Round  \n",
            "57               Intermediate    Intermediate Bold  \n",
            "58               Intermediate          Short Round  \n",
            "59                        Low          Long Medium  \n",
            "60           Low-Intermediate          Long Medium  \n",
            "61                        Low    Intermediate Bold  \n",
            "63               Intermediate          Long Medium  \n",
            "64               Intermediate          Short Round  \n",
            "65                       High          Long Medium  \n",
            "66               Intermediate  Intermediate Medium  \n",
            "67                        Low          Long Medium  \n",
            "69                       High          Short Round  \n",
            "70                       High          Short Round  \n",
            "75          High-Intermediate    Intermediate Bold  \n",
            "76          High-Intermediate    Intermediate Bold  \n",
            "81               Intermediate          Short Round  \n",
            "82               Intermediate          Short Round  \n",
            "83               Intermediate    Intermediate Bold  \n",
            "84          High-Intermediate  Intermediate Medium  \n",
            "85          High-Intermediate  Intermediate Medium  \n",
            "86               Intermediate    Intermediate Bold  \n",
            "89          High-Intermediate          Long Medium  \n",
            "91          High-Intermediate    Intermediate Bold  \n",
            "96          High-Intermediate    Intermediate Bold  \n"
          ]
        }
      ]
    }
  ]
}